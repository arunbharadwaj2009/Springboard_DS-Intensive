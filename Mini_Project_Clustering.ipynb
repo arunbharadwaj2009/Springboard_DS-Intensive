{
 "cells": [
  {
   "cell_type": "markdown",
   "metadata": {},
   "source": [
    "# Customer Segmentation using Clustering\n",
    "***\n",
    "This mini-project is based on [this blog post](http://blog.yhat.com/posts/customer-segmentation-using-python.html) by yhat. Please feel free to refer to the post for additional information, and solutions."
   ]
  },
  {
   "cell_type": "code",
   "execution_count": 26,
   "metadata": {},
   "outputs": [],
   "source": [
    "%matplotlib inline\n",
    "import pandas as pd\n",
    "import sklearn\n",
    "import matplotlib.pyplot as plt\n",
    "import seaborn as sns\n",
    "import numpy as np\n",
    "\n",
    "# Setup Seaborn\n",
    "sns.set_style(\"whitegrid\")\n",
    "sns.set_context(\"poster\")"
   ]
  },
  {
   "cell_type": "markdown",
   "metadata": {},
   "source": [
    "## Data\n",
    "\n",
    "The dataset contains information on marketing newsletters/e-mail campaigns (e-mail offers sent to customers) and transaction level data from customers. The transactional data shows which offer customers responded to, and what the customer ended up buying. The data is presented as an Excel workbook containing two worksheets. Each worksheet contains a different dataset."
   ]
  },
  {
   "cell_type": "code",
   "execution_count": 5,
   "metadata": {},
   "outputs": [
    {
     "name": "stdout",
     "output_type": "stream",
     "text": [
      "    offer_id   campaign            varietal  min_qty  discount        origin  \\\n",
      "0          1    January              Malbec       72        56        France   \n",
      "1          2    January          Pinot Noir       72        17        France   \n",
      "2          3   February           Espumante      144        32        Oregon   \n",
      "3          4   February           Champagne       72        48        France   \n",
      "4          5   February  Cabernet Sauvignon      144        44   New Zealand   \n",
      "5          6      March            Prosecco      144        86         Chile   \n",
      "6          7      March            Prosecco        6        40     Australia   \n",
      "7          8      March           Espumante        6        45  South Africa   \n",
      "8          9      April          Chardonnay      144        57         Chile   \n",
      "9         10      April            Prosecco       72        52    California   \n",
      "10        11        May           Champagne       72        85        France   \n",
      "11        12        May            Prosecco       72        83     Australia   \n",
      "12        13        May              Merlot        6        43         Chile   \n",
      "13        14       June              Merlot       72        64         Chile   \n",
      "14        15       June  Cabernet Sauvignon      144        19         Italy   \n",
      "15        16       June              Merlot       72        88    California   \n",
      "16        17       July          Pinot Noir       12        47       Germany   \n",
      "17        18       July           Espumante        6        50        Oregon   \n",
      "18        19       July           Champagne       12        66       Germany   \n",
      "19        20     August  Cabernet Sauvignon       72        82         Italy   \n",
      "20        21     August           Champagne       12        50    California   \n",
      "21        22     August           Champagne       72        63        France   \n",
      "22        23  September          Chardonnay      144        39  South Africa   \n",
      "23        24  September          Pinot Noir        6        34         Italy   \n",
      "24        25    October  Cabernet Sauvignon       72        59        Oregon   \n",
      "25        26    October          Pinot Noir      144        83     Australia   \n",
      "26        27    October           Champagne       72        88   New Zealand   \n",
      "27        28   November  Cabernet Sauvignon       12        56        France   \n",
      "28        29   November        Pinot Grigio        6        87        France   \n",
      "29        30   December              Malbec        6        54        France   \n",
      "30        31   December           Champagne       72        89        France   \n",
      "31        32   December  Cabernet Sauvignon       72        45       Germany   \n",
      "\n",
      "    past_peak  \n",
      "0       False  \n",
      "1       False  \n",
      "2        True  \n",
      "3        True  \n",
      "4        True  \n",
      "5       False  \n",
      "6        True  \n",
      "7       False  \n",
      "8       False  \n",
      "9       False  \n",
      "10      False  \n",
      "11      False  \n",
      "12      False  \n",
      "13      False  \n",
      "14      False  \n",
      "15      False  \n",
      "16      False  \n",
      "17      False  \n",
      "18      False  \n",
      "19      False  \n",
      "20      False  \n",
      "21      False  \n",
      "22      False  \n",
      "23      False  \n",
      "24       True  \n",
      "25      False  \n",
      "26      False  \n",
      "27       True  \n",
      "28      False  \n",
      "29      False  \n",
      "30      False  \n",
      "31       True  \n"
     ]
    }
   ],
   "source": [
    "df_offers = pd.read_excel(\"./WineKMC.xlsx\", sheetname=0)\n",
    "df_offers.columns = [\"offer_id\", \"campaign\", \"varietal\", \"min_qty\", \"discount\", \"origin\", \"past_peak\"]\n",
    "print(df_offers)"
   ]
  },
  {
   "cell_type": "markdown",
   "metadata": {},
   "source": [
    "We see that the first dataset contains information about each offer such as the month it is in effect and several attributes about the wine that the offer refers to: the variety, minimum quantity, discount, country of origin and whether or not it is past peak. The second dataset in the second worksheet contains transactional data -- which offer each customer responded to."
   ]
  },
  {
   "cell_type": "code",
   "execution_count": 6,
   "metadata": {},
   "outputs": [
    {
     "name": "stdout",
     "output_type": "stream",
     "text": [
      "    customer_name  offer_id  n\n",
      "0           Smith         2  1\n",
      "1           Smith        24  1\n",
      "2         Johnson        17  1\n",
      "3         Johnson        24  1\n",
      "4         Johnson        26  1\n",
      "5        Williams        18  1\n",
      "6        Williams        22  1\n",
      "7        Williams        31  1\n",
      "8           Brown         7  1\n",
      "9           Brown        29  1\n",
      "10          Brown        30  1\n",
      "11          Jones         8  1\n",
      "12         Miller         6  1\n",
      "13         Miller        10  1\n",
      "14         Miller        14  1\n",
      "15         Miller        15  1\n",
      "16         Miller        22  1\n",
      "17         Miller        23  1\n",
      "18         Miller        31  1\n",
      "19          Davis        12  1\n",
      "20          Davis        22  1\n",
      "21          Davis        25  1\n",
      "22         Garcia        14  1\n",
      "23         Garcia        15  1\n",
      "24      Rodriguez         2  1\n",
      "25      Rodriguez        26  1\n",
      "26         Wilson         8  1\n",
      "27         Wilson        30  1\n",
      "28       Martinez        12  1\n",
      "29       Martinez        25  1\n",
      "..            ...       ... ..\n",
      "294      Sullivan        13  1\n",
      "295      Sullivan        18  1\n",
      "296       Russell        26  1\n",
      "297         Ortiz         8  1\n",
      "298       Jenkins        24  1\n",
      "299       Jenkins        26  1\n",
      "300     Gutierrez         6  1\n",
      "301     Gutierrez         8  1\n",
      "302     Gutierrez        10  1\n",
      "303     Gutierrez        18  1\n",
      "304         Perry         8  1\n",
      "305         Perry        18  1\n",
      "306         Perry        29  1\n",
      "307         Perry        30  1\n",
      "308        Butler         1  1\n",
      "309        Butler         4  1\n",
      "310        Butler        22  1\n",
      "311        Butler        28  1\n",
      "312        Butler        30  1\n",
      "313        Barnes        10  1\n",
      "314        Barnes        21  1\n",
      "315        Barnes        22  1\n",
      "316        Barnes        31  1\n",
      "317        Fisher         1  1\n",
      "318        Fisher         2  1\n",
      "319        Fisher        11  1\n",
      "320        Fisher        22  1\n",
      "321        Fisher        28  1\n",
      "322        Fisher        30  1\n",
      "323        Fisher        31  1\n",
      "\n",
      "[324 rows x 3 columns]\n"
     ]
    }
   ],
   "source": [
    "df_transactions = pd.read_excel(\"./WineKMC.xlsx\", sheetname=1)\n",
    "df_transactions.columns = [\"customer_name\", \"offer_id\"]\n",
    "df_transactions['n'] = 1\n",
    "print(df_transactions)"
   ]
  },
  {
   "cell_type": "markdown",
   "metadata": {},
   "source": [
    "## Data wrangling"
   ]
  },
  {
   "cell_type": "markdown",
   "metadata": {},
   "source": [
    "We're trying to learn more about how our customers behave, so we can use their behavior (whether or not they purchased something based on an offer) as a way to group similar minded customers together. We can then study those groups to look for patterns and trends which can help us formulate future offers.\n",
    "\n",
    "The first thing we need is a way to compare customers. To do this, we're going to create a matrix that contains each customer and a 0/1 indicator for whether or not they responded to a given offer. "
   ]
  },
  {
   "cell_type": "markdown",
   "metadata": {},
   "source": [
    "<div class=\"span5 alert alert-info\">\n",
    "<h3>Checkup Exercise Set I</h3>\n",
    "\n",
    "<p><b>Exercise:</b> Create a data frame where each row has the following columns (Use the pandas [`merge`](http://pandas.pydata.org/pandas-docs/stable/generated/pandas.DataFrame.merge.html) and [`pivot_table`](http://pandas.pydata.org/pandas-docs/stable/generated/pandas.pivot_table.html) functions for this purpose):\n",
    "<ul>\n",
    "<li> customer_name\n",
    "<li> One column for each offer, with a 1 if the customer responded to the offer\n",
    "</ul>\n",
    "<p>Make sure you also deal with any weird values such as `NaN`. Read the documentation to develop your solution.</p>\n",
    "</div>"
   ]
  },
  {
   "cell_type": "code",
   "execution_count": 205,
   "metadata": {
    "scrolled": true
   },
   "outputs": [
    {
     "name": "stdout",
     "output_type": "stream",
     "text": [
      "                 n                                              ...        \\\n",
      "offer_id        1    2    3    4    5    6    7    8    9    10 ...    23   \n",
      "customer_name                                                   ...         \n",
      "Adams          0.0  0.0  0.0  0.0  0.0  0.0  0.0  0.0  0.0  0.0 ...   0.0   \n",
      "Allen          0.0  0.0  0.0  0.0  0.0  0.0  0.0  0.0  1.0  0.0 ...   0.0   \n",
      "Anderson       0.0  0.0  0.0  0.0  0.0  0.0  0.0  0.0  0.0  0.0 ...   0.0   \n",
      "Bailey         0.0  0.0  0.0  0.0  0.0  0.0  1.0  0.0  0.0  0.0 ...   0.0   \n",
      "Baker          0.0  0.0  0.0  0.0  0.0  0.0  1.0  0.0  0.0  1.0 ...   0.0   \n",
      "Barnes         0.0  0.0  0.0  0.0  0.0  0.0  0.0  0.0  0.0  1.0 ...   0.0   \n",
      "Bell           0.0  1.0  0.0  0.0  0.0  0.0  0.0  0.0  0.0  0.0 ...   0.0   \n",
      "Bennett        0.0  0.0  0.0  0.0  0.0  0.0  0.0  1.0  0.0  0.0 ...   0.0   \n",
      "Brooks         0.0  0.0  1.0  0.0  0.0  0.0  0.0  1.0  0.0  0.0 ...   0.0   \n",
      "Brown          0.0  0.0  0.0  0.0  0.0  0.0  1.0  0.0  0.0  0.0 ...   0.0   \n",
      "Butler         1.0  0.0  0.0  1.0  0.0  0.0  0.0  0.0  0.0  0.0 ...   0.0   \n",
      "Campbell       0.0  1.0  0.0  0.0  0.0  0.0  0.0  0.0  0.0  0.0 ...   0.0   \n",
      "Carter         0.0  0.0  0.0  0.0  0.0  0.0  1.0  0.0  0.0  0.0 ...   0.0   \n",
      "Clark          0.0  0.0  0.0  1.0  0.0  0.0  0.0  0.0  0.0  0.0 ...   0.0   \n",
      "Collins        0.0  0.0  0.0  0.0  0.0  0.0  0.0  0.0  0.0  0.0 ...   0.0   \n",
      "Cook           0.0  0.0  0.0  0.0  0.0  0.0  0.0  0.0  0.0  0.0 ...   0.0   \n",
      "Cooper         0.0  0.0  0.0  1.0  0.0  0.0  0.0  0.0  0.0  0.0 ...   0.0   \n",
      "Cox            0.0  1.0  0.0  0.0  0.0  0.0  0.0  0.0  0.0  0.0 ...   0.0   \n",
      "Cruz           0.0  0.0  0.0  0.0  0.0  0.0  0.0  0.0  0.0  0.0 ...   0.0   \n",
      "Davis          0.0  0.0  0.0  0.0  0.0  0.0  0.0  0.0  0.0  0.0 ...   0.0   \n",
      "Diaz           0.0  0.0  0.0  0.0  0.0  0.0  1.0  1.0  0.0  0.0 ...   0.0   \n",
      "Edwards        0.0  0.0  0.0  0.0  0.0  0.0  0.0  1.0  0.0  0.0 ...   0.0   \n",
      "Evans          0.0  0.0  0.0  0.0  0.0  0.0  0.0  0.0  0.0  0.0 ...   0.0   \n",
      "Fisher         1.0  1.0  0.0  0.0  0.0  0.0  0.0  0.0  0.0  0.0 ...   0.0   \n",
      "Flores         0.0  0.0  0.0  0.0  0.0  0.0  0.0  0.0  0.0  0.0 ...   0.0   \n",
      "Foster         1.0  0.0  0.0  0.0  0.0  0.0  0.0  0.0  1.0  0.0 ...   1.0   \n",
      "Garcia         0.0  0.0  0.0  0.0  0.0  0.0  0.0  0.0  0.0  0.0 ...   0.0   \n",
      "Gomez          0.0  0.0  0.0  0.0  0.0  0.0  0.0  0.0  0.0  0.0 ...   0.0   \n",
      "Gonzalez       0.0  0.0  0.0  0.0  0.0  0.0  0.0  0.0  1.0  0.0 ...   0.0   \n",
      "Gray           0.0  0.0  0.0  0.0  0.0  0.0  0.0  0.0  0.0  0.0 ...   0.0   \n",
      "...            ...  ...  ...  ...  ...  ...  ...  ...  ...  ... ...   ...   \n",
      "Reed           0.0  0.0  0.0  0.0  1.0  0.0  0.0  0.0  0.0  0.0 ...   0.0   \n",
      "Reyes          0.0  0.0  0.0  0.0  0.0  0.0  0.0  0.0  1.0  0.0 ...   1.0   \n",
      "Richardson     0.0  0.0  1.0  0.0  0.0  1.0  0.0  0.0  0.0  0.0 ...   0.0   \n",
      "Rivera         0.0  0.0  0.0  0.0  0.0  0.0  1.0  0.0  0.0  0.0 ...   0.0   \n",
      "Roberts        0.0  0.0  0.0  0.0  0.0  0.0  0.0  0.0  0.0  0.0 ...   0.0   \n",
      "Robinson       0.0  0.0  0.0  0.0  0.0  0.0  1.0  0.0  0.0  0.0 ...   0.0   \n",
      "Rodriguez      0.0  1.0  0.0  0.0  0.0  0.0  0.0  0.0  0.0  0.0 ...   0.0   \n",
      "Rogers         0.0  0.0  1.0  0.0  0.0  0.0  1.0  1.0  0.0  0.0 ...   0.0   \n",
      "Ross           0.0  0.0  0.0  0.0  0.0  0.0  0.0  0.0  0.0  0.0 ...   0.0   \n",
      "Russell        0.0  0.0  0.0  0.0  0.0  0.0  0.0  0.0  0.0  0.0 ...   0.0   \n",
      "Sanchez        0.0  0.0  0.0  1.0  1.0  0.0  0.0  0.0  0.0  0.0 ...   0.0   \n",
      "Sanders        1.0  0.0  0.0  1.0  1.0  1.0  0.0  0.0  1.0  0.0 ...   0.0   \n",
      "Scott          0.0  0.0  0.0  0.0  0.0  1.0  0.0  0.0  0.0  0.0 ...   1.0   \n",
      "Smith          0.0  1.0  0.0  0.0  0.0  0.0  0.0  0.0  0.0  0.0 ...   0.0   \n",
      "Stewart        0.0  0.0  0.0  0.0  0.0  0.0  0.0  1.0  0.0  0.0 ...   0.0   \n",
      "Sullivan       0.0  0.0  0.0  0.0  0.0  0.0  0.0  1.0  0.0  0.0 ...   0.0   \n",
      "Taylor         0.0  0.0  0.0  0.0  0.0  0.0  1.0  0.0  0.0  0.0 ...   0.0   \n",
      "Thomas         1.0  0.0  0.0  1.0  0.0  0.0  0.0  0.0  1.0  0.0 ...   0.0   \n",
      "Thompson       0.0  0.0  0.0  0.0  0.0  0.0  0.0  0.0  1.0  0.0 ...   0.0   \n",
      "Torres         0.0  0.0  0.0  0.0  0.0  0.0  0.0  1.0  0.0  0.0 ...   0.0   \n",
      "Turner         0.0  0.0  0.0  1.0  0.0  1.0  0.0  0.0  0.0  0.0 ...   0.0   \n",
      "Walker         0.0  0.0  0.0  0.0  0.0  0.0  0.0  0.0  0.0  0.0 ...   0.0   \n",
      "Ward           0.0  0.0  0.0  1.0  0.0  0.0  0.0  0.0  0.0  0.0 ...   0.0   \n",
      "Watson         0.0  0.0  0.0  0.0  0.0  0.0  1.0  0.0  0.0  0.0 ...   0.0   \n",
      "White          0.0  0.0  0.0  0.0  0.0  0.0  0.0  0.0  0.0  0.0 ...   0.0   \n",
      "Williams       0.0  0.0  0.0  0.0  0.0  0.0  0.0  0.0  0.0  0.0 ...   0.0   \n",
      "Wilson         0.0  0.0  0.0  0.0  0.0  0.0  0.0  1.0  0.0  0.0 ...   0.0   \n",
      "Wood           1.0  0.0  0.0  0.0  0.0  0.0  0.0  0.0  0.0  1.0 ...   0.0   \n",
      "Wright         0.0  0.0  0.0  1.0  0.0  1.0  0.0  0.0  0.0  0.0 ...   0.0   \n",
      "Young          0.0  0.0  0.0  0.0  0.0  1.0  0.0  0.0  1.0  0.0 ...   0.0   \n",
      "\n",
      "                                                            \n",
      "offer_id        24   25   26   27   28   29   30   31   32  \n",
      "customer_name                                               \n",
      "Adams          0.0  0.0  0.0  0.0  0.0  1.0  1.0  0.0  0.0  \n",
      "Allen          0.0  0.0  0.0  1.0  0.0  0.0  0.0  0.0  0.0  \n",
      "Anderson       1.0  0.0  1.0  0.0  0.0  0.0  0.0  0.0  0.0  \n",
      "Bailey         0.0  0.0  0.0  0.0  0.0  0.0  1.0  0.0  0.0  \n",
      "Baker          0.0  0.0  0.0  0.0  0.0  0.0  0.0  1.0  0.0  \n",
      "Barnes         0.0  0.0  0.0  0.0  0.0  0.0  0.0  1.0  0.0  \n",
      "Bell           1.0  0.0  1.0  0.0  0.0  0.0  0.0  0.0  0.0  \n",
      "Bennett        0.0  0.0  0.0  0.0  0.0  1.0  0.0  0.0  0.0  \n",
      "Brooks         0.0  0.0  0.0  0.0  0.0  0.0  0.0  0.0  0.0  \n",
      "Brown          0.0  0.0  0.0  0.0  0.0  1.0  1.0  0.0  0.0  \n",
      "Butler         0.0  0.0  0.0  0.0  1.0  0.0  1.0  0.0  0.0  \n",
      "Campbell       1.0  0.0  1.0  0.0  0.0  0.0  0.0  0.0  0.0  \n",
      "Carter         0.0  0.0  0.0  0.0  0.0  1.0  1.0  0.0  0.0  \n",
      "Clark          0.0  0.0  0.0  0.0  1.0  0.0  0.0  1.0  0.0  \n",
      "Collins        0.0  0.0  0.0  0.0  0.0  0.0  1.0  0.0  0.0  \n",
      "Cook           1.0  0.0  1.0  0.0  0.0  0.0  0.0  0.0  0.0  \n",
      "Cooper         0.0  0.0  0.0  0.0  0.0  0.0  0.0  0.0  1.0  \n",
      "Cox            1.0  0.0  1.0  0.0  0.0  0.0  0.0  0.0  0.0  \n",
      "Cruz           0.0  0.0  0.0  0.0  0.0  1.0  1.0  0.0  0.0  \n",
      "Davis          0.0  1.0  0.0  0.0  0.0  0.0  0.0  0.0  0.0  \n",
      "Diaz           0.0  0.0  0.0  0.0  0.0  1.0  1.0  0.0  0.0  \n",
      "Edwards        0.0  0.0  0.0  1.0  0.0  0.0  0.0  0.0  0.0  \n",
      "Evans          0.0  0.0  0.0  1.0  0.0  0.0  0.0  0.0  0.0  \n",
      "Fisher         0.0  0.0  0.0  0.0  1.0  0.0  1.0  1.0  0.0  \n",
      "Flores         1.0  0.0  0.0  0.0  0.0  0.0  0.0  0.0  0.0  \n",
      "Foster         0.0  0.0  0.0  0.0  0.0  0.0  0.0  0.0  0.0  \n",
      "Garcia         0.0  0.0  0.0  0.0  0.0  0.0  0.0  0.0  0.0  \n",
      "Gomez          0.0  1.0  0.0  0.0  0.0  0.0  0.0  0.0  1.0  \n",
      "Gonzalez       0.0  0.0  0.0  0.0  0.0  0.0  0.0  1.0  0.0  \n",
      "Gray           0.0  0.0  1.0  0.0  0.0  0.0  0.0  0.0  0.0  \n",
      "...            ...  ...  ...  ...  ...  ...  ...  ...  ...  \n",
      "Reed           0.0  0.0  0.0  0.0  0.0  0.0  0.0  0.0  0.0  \n",
      "Reyes          0.0  0.0  0.0  0.0  0.0  0.0  0.0  0.0  0.0  \n",
      "Richardson     0.0  0.0  0.0  0.0  0.0  0.0  0.0  0.0  0.0  \n",
      "Rivera         0.0  0.0  0.0  0.0  0.0  0.0  0.0  0.0  0.0  \n",
      "Roberts        0.0  0.0  0.0  0.0  0.0  0.0  0.0  1.0  0.0  \n",
      "Robinson       0.0  0.0  0.0  0.0  0.0  1.0  0.0  0.0  0.0  \n",
      "Rodriguez      0.0  0.0  1.0  0.0  0.0  0.0  0.0  0.0  0.0  \n",
      "Rogers         0.0  0.0  0.0  0.0  0.0  0.0  0.0  0.0  0.0  \n",
      "Ross           0.0  0.0  0.0  0.0  0.0  0.0  0.0  0.0  0.0  \n",
      "Russell        0.0  0.0  1.0  0.0  0.0  0.0  0.0  0.0  0.0  \n",
      "Sanchez        0.0  0.0  1.0  0.0  0.0  0.0  0.0  0.0  0.0  \n",
      "Sanders        0.0  1.0  1.0  0.0  0.0  0.0  0.0  0.0  0.0  \n",
      "Scott          0.0  0.0  0.0  0.0  0.0  0.0  0.0  0.0  0.0  \n",
      "Smith          1.0  0.0  0.0  0.0  0.0  0.0  0.0  0.0  0.0  \n",
      "Stewart        0.0  0.0  0.0  0.0  0.0  1.0  1.0  0.0  0.0  \n",
      "Sullivan       0.0  0.0  0.0  0.0  0.0  0.0  0.0  0.0  0.0  \n",
      "Taylor         0.0  0.0  0.0  0.0  0.0  1.0  1.0  0.0  0.0  \n",
      "Thomas         0.0  0.0  1.0  0.0  0.0  0.0  0.0  0.0  0.0  \n",
      "Thompson       0.0  1.0  0.0  0.0  0.0  0.0  1.0  0.0  0.0  \n",
      "Torres         0.0  0.0  0.0  0.0  0.0  0.0  0.0  0.0  0.0  \n",
      "Turner         0.0  0.0  0.0  1.0  0.0  0.0  0.0  1.0  0.0  \n",
      "Walker         0.0  0.0  0.0  0.0  0.0  1.0  0.0  0.0  0.0  \n",
      "Ward           0.0  0.0  0.0  0.0  0.0  0.0  0.0  0.0  0.0  \n",
      "Watson         0.0  0.0  0.0  0.0  0.0  1.0  0.0  0.0  0.0  \n",
      "White          0.0  1.0  0.0  0.0  0.0  0.0  1.0  0.0  0.0  \n",
      "Williams       0.0  0.0  0.0  0.0  0.0  0.0  0.0  1.0  0.0  \n",
      "Wilson         0.0  0.0  0.0  0.0  0.0  0.0  1.0  0.0  0.0  \n",
      "Wood           0.0  0.0  0.0  0.0  0.0  0.0  0.0  1.0  0.0  \n",
      "Wright         0.0  0.0  0.0  1.0  0.0  0.0  0.0  0.0  0.0  \n",
      "Young          0.0  0.0  0.0  0.0  0.0  0.0  0.0  1.0  1.0  \n",
      "\n",
      "[100 rows x 32 columns]\n"
     ]
    }
   ],
   "source": [
    "#your turn\n",
    "combined=pd.merge(df_offers,df_transactions)\n",
    "#print(combined)\n",
    "combined_1=combined.copy()\n",
    "combined_1=pd.DataFrame(combined_1.groupby(['customer_name','offer_id']).n.count())\n",
    "combined_2=pd.pivot_table(combined_1,index='customer_name',columns='offer_id')\n",
    "combined_2=combined_2.fillna(0)\n",
    "print(combined_2)"
   ]
  },
  {
   "cell_type": "markdown",
   "metadata": {},
   "source": [
    "## K-Means Clustering\n",
    "\n",
    "Recall that in K-Means Clustering we want to *maximize* the distance between centroids and *minimize* the distance between data points and the respective centroid for the cluster they are in. True evaluation for unsupervised learning would require labeled data; however, we can use a variety of intuitive metrics to try to pick the number of clusters K. We will introduce two methods: the Elbow method, the Silhouette method and the gap statistic."
   ]
  },
  {
   "cell_type": "markdown",
   "metadata": {},
   "source": [
    "### Choosing K: The Elbow Sum-of-Squares Method\n",
    "\n",
    "The first method looks at the sum-of-squares error in each cluster against $K$. We compute the distance from each data point to the center of the cluster (centroid) to which the data point was assigned. \n",
    "\n",
    "$$SS = \\sum_k \\sum_{x_i \\in C_k} \\sum_{x_j \\in C_k} \\left( x_i - x_j \\right)^2 = \\sum_k \\sum_{x_i \\in C_k} \\left( x_i - \\mu_k \\right)^2$$\n",
    "\n",
    "where $x_i$ is a point, $C_k$ represents cluster $k$ and $\\mu_k$ is the centroid for cluster $k$. We can plot SS vs. $K$ and choose the *elbow point* in the plot as the best value for $K$. The elbow point is the point at which the plot starts descending much more slowly. "
   ]
  },
  {
   "cell_type": "markdown",
   "metadata": {},
   "source": [
    "<div class=\"span5 alert alert-info\">\n",
    "<h3>Checkup Exercise Set II</h3>\n",
    "\n",
    "<p><b>Exercise:</b></p> \n",
    "<ul>\n",
    "<li> What values of $SS$ do you believe represent better clusterings? Why?\n",
    "<li> Create a numpy matrix `x_cols` with only the columns representing the offers (i.e. the 0/1 colums) \n",
    "<li> Write code that applies the [`KMeans`](http://scikit-learn.org/stable/modules/generated/sklearn.cluster.KMeans.html) clustering method from scikit-learn to this matrix. \n",
    "<li> Construct a plot showing $SS$ for each $K$ and pick $K$ using this plot. For simplicity, test $2 \\le K \\le 10$.\n",
    "<li> Make a bar chart showing the number of points in each cluster for k-means under the best $K$.\n",
    "<li> What challenges did you experience using the Elbow method to pick $K$?\n",
    "</ul>\n",
    "</div>"
   ]
  },
  {
   "cell_type": "markdown",
   "metadata": {},
   "source": [
    "## 1) I am not sure if it is possible to give a general value of SS. The optimal value of SS depends on the sparseness of the dataset. Very sparse data may have high values of SS. The goal of clustering should be to minimize the sum of SS for all clusters given the number of clusters that has been chosen."
   ]
  },
  {
   "cell_type": "code",
   "execution_count": 97,
   "metadata": {},
   "outputs": [
    {
     "name": "stdout",
     "output_type": "stream",
     "text": [
      "                 n                                              ...        \\\n",
      "offer_id        1    2    3    4    5    6    7    8    9    10 ...    23   \n",
      "customer_name                                                   ...         \n",
      "Adams          0.0  0.0  0.0  0.0  0.0  0.0  0.0  0.0  0.0  0.0 ...   0.0   \n",
      "Allen          0.0  0.0  0.0  0.0  0.0  0.0  0.0  0.0  1.0  0.0 ...   0.0   \n",
      "Anderson       0.0  0.0  0.0  0.0  0.0  0.0  0.0  0.0  0.0  0.0 ...   0.0   \n",
      "Bailey         0.0  0.0  0.0  0.0  0.0  0.0  1.0  0.0  0.0  0.0 ...   0.0   \n",
      "Baker          0.0  0.0  0.0  0.0  0.0  0.0  1.0  0.0  0.0  1.0 ...   0.0   \n",
      "Barnes         0.0  0.0  0.0  0.0  0.0  0.0  0.0  0.0  0.0  1.0 ...   0.0   \n",
      "Bell           0.0  1.0  0.0  0.0  0.0  0.0  0.0  0.0  0.0  0.0 ...   0.0   \n",
      "Bennett        0.0  0.0  0.0  0.0  0.0  0.0  0.0  1.0  0.0  0.0 ...   0.0   \n",
      "Brooks         0.0  0.0  1.0  0.0  0.0  0.0  0.0  1.0  0.0  0.0 ...   0.0   \n",
      "Brown          0.0  0.0  0.0  0.0  0.0  0.0  1.0  0.0  0.0  0.0 ...   0.0   \n",
      "Butler         1.0  0.0  0.0  1.0  0.0  0.0  0.0  0.0  0.0  0.0 ...   0.0   \n",
      "Campbell       0.0  1.0  0.0  0.0  0.0  0.0  0.0  0.0  0.0  0.0 ...   0.0   \n",
      "Carter         0.0  0.0  0.0  0.0  0.0  0.0  1.0  0.0  0.0  0.0 ...   0.0   \n",
      "Clark          0.0  0.0  0.0  1.0  0.0  0.0  0.0  0.0  0.0  0.0 ...   0.0   \n",
      "Collins        0.0  0.0  0.0  0.0  0.0  0.0  0.0  0.0  0.0  0.0 ...   0.0   \n",
      "Cook           0.0  0.0  0.0  0.0  0.0  0.0  0.0  0.0  0.0  0.0 ...   0.0   \n",
      "Cooper         0.0  0.0  0.0  1.0  0.0  0.0  0.0  0.0  0.0  0.0 ...   0.0   \n",
      "Cox            0.0  1.0  0.0  0.0  0.0  0.0  0.0  0.0  0.0  0.0 ...   0.0   \n",
      "Cruz           0.0  0.0  0.0  0.0  0.0  0.0  0.0  0.0  0.0  0.0 ...   0.0   \n",
      "Davis          0.0  0.0  0.0  0.0  0.0  0.0  0.0  0.0  0.0  0.0 ...   0.0   \n",
      "Diaz           0.0  0.0  0.0  0.0  0.0  0.0  1.0  1.0  0.0  0.0 ...   0.0   \n",
      "Edwards        0.0  0.0  0.0  0.0  0.0  0.0  0.0  1.0  0.0  0.0 ...   0.0   \n",
      "Evans          0.0  0.0  0.0  0.0  0.0  0.0  0.0  0.0  0.0  0.0 ...   0.0   \n",
      "Fisher         1.0  1.0  0.0  0.0  0.0  0.0  0.0  0.0  0.0  0.0 ...   0.0   \n",
      "Flores         0.0  0.0  0.0  0.0  0.0  0.0  0.0  0.0  0.0  0.0 ...   0.0   \n",
      "Foster         1.0  0.0  0.0  0.0  0.0  0.0  0.0  0.0  1.0  0.0 ...   1.0   \n",
      "Garcia         0.0  0.0  0.0  0.0  0.0  0.0  0.0  0.0  0.0  0.0 ...   0.0   \n",
      "Gomez          0.0  0.0  0.0  0.0  0.0  0.0  0.0  0.0  0.0  0.0 ...   0.0   \n",
      "Gonzalez       0.0  0.0  0.0  0.0  0.0  0.0  0.0  0.0  1.0  0.0 ...   0.0   \n",
      "Gray           0.0  0.0  0.0  0.0  0.0  0.0  0.0  0.0  0.0  0.0 ...   0.0   \n",
      "...            ...  ...  ...  ...  ...  ...  ...  ...  ...  ... ...   ...   \n",
      "Reed           0.0  0.0  0.0  0.0  1.0  0.0  0.0  0.0  0.0  0.0 ...   0.0   \n",
      "Reyes          0.0  0.0  0.0  0.0  0.0  0.0  0.0  0.0  1.0  0.0 ...   1.0   \n",
      "Richardson     0.0  0.0  1.0  0.0  0.0  1.0  0.0  0.0  0.0  0.0 ...   0.0   \n",
      "Rivera         0.0  0.0  0.0  0.0  0.0  0.0  1.0  0.0  0.0  0.0 ...   0.0   \n",
      "Roberts        0.0  0.0  0.0  0.0  0.0  0.0  0.0  0.0  0.0  0.0 ...   0.0   \n",
      "Robinson       0.0  0.0  0.0  0.0  0.0  0.0  1.0  0.0  0.0  0.0 ...   0.0   \n",
      "Rodriguez      0.0  1.0  0.0  0.0  0.0  0.0  0.0  0.0  0.0  0.0 ...   0.0   \n",
      "Rogers         0.0  0.0  1.0  0.0  0.0  0.0  1.0  1.0  0.0  0.0 ...   0.0   \n",
      "Ross           0.0  0.0  0.0  0.0  0.0  0.0  0.0  0.0  0.0  0.0 ...   0.0   \n",
      "Russell        0.0  0.0  0.0  0.0  0.0  0.0  0.0  0.0  0.0  0.0 ...   0.0   \n",
      "Sanchez        0.0  0.0  0.0  1.0  1.0  0.0  0.0  0.0  0.0  0.0 ...   0.0   \n",
      "Sanders        1.0  0.0  0.0  1.0  1.0  1.0  0.0  0.0  1.0  0.0 ...   0.0   \n",
      "Scott          0.0  0.0  0.0  0.0  0.0  1.0  0.0  0.0  0.0  0.0 ...   1.0   \n",
      "Smith          0.0  1.0  0.0  0.0  0.0  0.0  0.0  0.0  0.0  0.0 ...   0.0   \n",
      "Stewart        0.0  0.0  0.0  0.0  0.0  0.0  0.0  1.0  0.0  0.0 ...   0.0   \n",
      "Sullivan       0.0  0.0  0.0  0.0  0.0  0.0  0.0  1.0  0.0  0.0 ...   0.0   \n",
      "Taylor         0.0  0.0  0.0  0.0  0.0  0.0  1.0  0.0  0.0  0.0 ...   0.0   \n",
      "Thomas         1.0  0.0  0.0  1.0  0.0  0.0  0.0  0.0  1.0  0.0 ...   0.0   \n",
      "Thompson       0.0  0.0  0.0  0.0  0.0  0.0  0.0  0.0  1.0  0.0 ...   0.0   \n",
      "Torres         0.0  0.0  0.0  0.0  0.0  0.0  0.0  1.0  0.0  0.0 ...   0.0   \n",
      "Turner         0.0  0.0  0.0  1.0  0.0  1.0  0.0  0.0  0.0  0.0 ...   0.0   \n",
      "Walker         0.0  0.0  0.0  0.0  0.0  0.0  0.0  0.0  0.0  0.0 ...   0.0   \n",
      "Ward           0.0  0.0  0.0  1.0  0.0  0.0  0.0  0.0  0.0  0.0 ...   0.0   \n",
      "Watson         0.0  0.0  0.0  0.0  0.0  0.0  1.0  0.0  0.0  0.0 ...   0.0   \n",
      "White          0.0  0.0  0.0  0.0  0.0  0.0  0.0  0.0  0.0  0.0 ...   0.0   \n",
      "Williams       0.0  0.0  0.0  0.0  0.0  0.0  0.0  0.0  0.0  0.0 ...   0.0   \n",
      "Wilson         0.0  0.0  0.0  0.0  0.0  0.0  0.0  1.0  0.0  0.0 ...   0.0   \n",
      "Wood           1.0  0.0  0.0  0.0  0.0  0.0  0.0  0.0  0.0  1.0 ...   0.0   \n",
      "Wright         0.0  0.0  0.0  1.0  0.0  1.0  0.0  0.0  0.0  0.0 ...   0.0   \n",
      "Young          0.0  0.0  0.0  0.0  0.0  1.0  0.0  0.0  1.0  0.0 ...   0.0   \n",
      "\n",
      "                                                            \n",
      "offer_id        24   25   26   27   28   29   30   31   32  \n",
      "customer_name                                               \n",
      "Adams          0.0  0.0  0.0  0.0  0.0  1.0  1.0  0.0  0.0  \n",
      "Allen          0.0  0.0  0.0  1.0  0.0  0.0  0.0  0.0  0.0  \n",
      "Anderson       1.0  0.0  1.0  0.0  0.0  0.0  0.0  0.0  0.0  \n",
      "Bailey         0.0  0.0  0.0  0.0  0.0  0.0  1.0  0.0  0.0  \n",
      "Baker          0.0  0.0  0.0  0.0  0.0  0.0  0.0  1.0  0.0  \n",
      "Barnes         0.0  0.0  0.0  0.0  0.0  0.0  0.0  1.0  0.0  \n",
      "Bell           1.0  0.0  1.0  0.0  0.0  0.0  0.0  0.0  0.0  \n",
      "Bennett        0.0  0.0  0.0  0.0  0.0  1.0  0.0  0.0  0.0  \n",
      "Brooks         0.0  0.0  0.0  0.0  0.0  0.0  0.0  0.0  0.0  \n",
      "Brown          0.0  0.0  0.0  0.0  0.0  1.0  1.0  0.0  0.0  \n",
      "Butler         0.0  0.0  0.0  0.0  1.0  0.0  1.0  0.0  0.0  \n",
      "Campbell       1.0  0.0  1.0  0.0  0.0  0.0  0.0  0.0  0.0  \n",
      "Carter         0.0  0.0  0.0  0.0  0.0  1.0  1.0  0.0  0.0  \n",
      "Clark          0.0  0.0  0.0  0.0  1.0  0.0  0.0  1.0  0.0  \n",
      "Collins        0.0  0.0  0.0  0.0  0.0  0.0  1.0  0.0  0.0  \n",
      "Cook           1.0  0.0  1.0  0.0  0.0  0.0  0.0  0.0  0.0  \n",
      "Cooper         0.0  0.0  0.0  0.0  0.0  0.0  0.0  0.0  1.0  \n",
      "Cox            1.0  0.0  1.0  0.0  0.0  0.0  0.0  0.0  0.0  \n",
      "Cruz           0.0  0.0  0.0  0.0  0.0  1.0  1.0  0.0  0.0  \n",
      "Davis          0.0  1.0  0.0  0.0  0.0  0.0  0.0  0.0  0.0  \n",
      "Diaz           0.0  0.0  0.0  0.0  0.0  1.0  1.0  0.0  0.0  \n",
      "Edwards        0.0  0.0  0.0  1.0  0.0  0.0  0.0  0.0  0.0  \n",
      "Evans          0.0  0.0  0.0  1.0  0.0  0.0  0.0  0.0  0.0  \n",
      "Fisher         0.0  0.0  0.0  0.0  1.0  0.0  1.0  1.0  0.0  \n",
      "Flores         1.0  0.0  0.0  0.0  0.0  0.0  0.0  0.0  0.0  \n",
      "Foster         0.0  0.0  0.0  0.0  0.0  0.0  0.0  0.0  0.0  \n",
      "Garcia         0.0  0.0  0.0  0.0  0.0  0.0  0.0  0.0  0.0  \n",
      "Gomez          0.0  1.0  0.0  0.0  0.0  0.0  0.0  0.0  1.0  \n",
      "Gonzalez       0.0  0.0  0.0  0.0  0.0  0.0  0.0  1.0  0.0  \n",
      "Gray           0.0  0.0  1.0  0.0  0.0  0.0  0.0  0.0  0.0  \n",
      "...            ...  ...  ...  ...  ...  ...  ...  ...  ...  \n",
      "Reed           0.0  0.0  0.0  0.0  0.0  0.0  0.0  0.0  0.0  \n",
      "Reyes          0.0  0.0  0.0  0.0  0.0  0.0  0.0  0.0  0.0  \n",
      "Richardson     0.0  0.0  0.0  0.0  0.0  0.0  0.0  0.0  0.0  \n",
      "Rivera         0.0  0.0  0.0  0.0  0.0  0.0  0.0  0.0  0.0  \n",
      "Roberts        0.0  0.0  0.0  0.0  0.0  0.0  0.0  1.0  0.0  \n",
      "Robinson       0.0  0.0  0.0  0.0  0.0  1.0  0.0  0.0  0.0  \n",
      "Rodriguez      0.0  0.0  1.0  0.0  0.0  0.0  0.0  0.0  0.0  \n",
      "Rogers         0.0  0.0  0.0  0.0  0.0  0.0  0.0  0.0  0.0  \n",
      "Ross           0.0  0.0  0.0  0.0  0.0  0.0  0.0  0.0  0.0  \n",
      "Russell        0.0  0.0  1.0  0.0  0.0  0.0  0.0  0.0  0.0  \n",
      "Sanchez        0.0  0.0  1.0  0.0  0.0  0.0  0.0  0.0  0.0  \n",
      "Sanders        0.0  1.0  1.0  0.0  0.0  0.0  0.0  0.0  0.0  \n",
      "Scott          0.0  0.0  0.0  0.0  0.0  0.0  0.0  0.0  0.0  \n",
      "Smith          1.0  0.0  0.0  0.0  0.0  0.0  0.0  0.0  0.0  \n",
      "Stewart        0.0  0.0  0.0  0.0  0.0  1.0  1.0  0.0  0.0  \n",
      "Sullivan       0.0  0.0  0.0  0.0  0.0  0.0  0.0  0.0  0.0  \n",
      "Taylor         0.0  0.0  0.0  0.0  0.0  1.0  1.0  0.0  0.0  \n",
      "Thomas         0.0  0.0  1.0  0.0  0.0  0.0  0.0  0.0  0.0  \n",
      "Thompson       0.0  1.0  0.0  0.0  0.0  0.0  1.0  0.0  0.0  \n",
      "Torres         0.0  0.0  0.0  0.0  0.0  0.0  0.0  0.0  0.0  \n",
      "Turner         0.0  0.0  0.0  1.0  0.0  0.0  0.0  1.0  0.0  \n",
      "Walker         0.0  0.0  0.0  0.0  0.0  1.0  0.0  0.0  0.0  \n",
      "Ward           0.0  0.0  0.0  0.0  0.0  0.0  0.0  0.0  0.0  \n",
      "Watson         0.0  0.0  0.0  0.0  0.0  1.0  0.0  0.0  0.0  \n",
      "White          0.0  1.0  0.0  0.0  0.0  0.0  1.0  0.0  0.0  \n",
      "Williams       0.0  0.0  0.0  0.0  0.0  0.0  0.0  1.0  0.0  \n",
      "Wilson         0.0  0.0  0.0  0.0  0.0  0.0  1.0  0.0  0.0  \n",
      "Wood           0.0  0.0  0.0  0.0  0.0  0.0  0.0  1.0  0.0  \n",
      "Wright         0.0  0.0  0.0  1.0  0.0  0.0  0.0  0.0  0.0  \n",
      "Young          0.0  0.0  0.0  0.0  0.0  0.0  0.0  1.0  1.0  \n",
      "\n",
      "[100 rows x 32 columns]\n"
     ]
    }
   ],
   "source": [
    "combined_np=combined_2.as_matrix()\n",
    "\n",
    "print(combined_2)"
   ]
  },
  {
   "cell_type": "code",
   "execution_count": 24,
   "metadata": {},
   "outputs": [
    {
     "data": {
      "text/plain": [
       "KMeans(algorithm='auto', copy_x=True, init='k-means++', max_iter=300,\n",
       "    n_clusters=5, n_init=10, n_jobs=1, precompute_distances='auto',\n",
       "    random_state=None, tol=0.0001, verbose=0)"
      ]
     },
     "execution_count": 24,
     "metadata": {},
     "output_type": "execute_result"
    }
   ],
   "source": [
    "import sklearn.cluster\n",
    "from sklearn.cluster import KMeans\n",
    "\n",
    "model=KMeans(n_clusters=5)\n",
    "model.fit(combined_np)"
   ]
  },
  {
   "cell_type": "code",
   "execution_count": 35,
   "metadata": {},
   "outputs": [],
   "source": [
    "#from sklearn import metrics\n",
    "#from scipy.spatial.distance import cdist\n",
    "\n",
    "#SS=[]\n",
    "#K=range(2,10)\n",
    "#for k in K:\n",
    "#    kmeanmodel=KMeans(n_clusters=k)\n",
    "#    kmeanmodel.fit(combined_np)\n",
    "#    SS.append(sum(np.min(cdist(combined_np,kmeanmodel.cluster_centers_,'euclidean'),axis=1))/combined_np.shape[0])\n",
    "\n",
    "#plt.plot(K,SS)\n",
    "#plt.xlabel('Number of clusters')\n",
    "#plt.ylabel('Sum of squared distances from centroid')\n",
    "#plt.title('Elbow plot for kmeans model')\n",
    "#plt.show()"
   ]
  },
  {
   "cell_type": "code",
   "execution_count": 34,
   "metadata": {},
   "outputs": [
    {
     "data": {
      "image/png": "[encoded data removed]",
      "text/plain": [
       "<matplotlib.figure.Figure at 0x231cfa92748>"
      ]
     },
     "metadata": {},
     "output_type": "display_data"
    }
   ],
   "source": [
    "from sklearn import metrics\n",
    "from scipy.spatial.distance import cdist\n",
    "\n",
    "SS=[]\n",
    "K=range(2,10)\n",
    "for k in K:\n",
    "    kmeanmodel=KMeans(n_clusters=k)\n",
    "    kmeanmodel.fit(combined_np)\n",
    "    SS.append(kmeanmodel.inertia_)\n",
    "\n",
    "plt.plot(K,SS,'-o')\n",
    "plt.xticks(K)\n",
    "plt.xlabel('Number of clusters')\n",
    "plt.ylabel('Sum of squared distances from centroid')\n",
    "plt.title('Elbow plot for kmeans model')\n",
    "plt.show()\n"
   ]
  },
  {
   "cell_type": "markdown",
   "metadata": {},
   "source": [
    "## From the above plot, it is difficult to determine the best value for k. While there is a small elbow at k=3, the elbow is not sharp enough. This turned out to be my biggest challenge.\n",
    "\n",
    "## So, I assume that k=3 or k=8 to be the best values of k."
   ]
  },
  {
   "cell_type": "code",
   "execution_count": 163,
   "metadata": {},
   "outputs": [],
   "source": [
    "kmeanmodel_3=KMeans(n_clusters=3)\n",
    "labels_3=pd.DataFrame(kmeanmodel_3.fit_predict(combined_np),columns=['Cluster Label'])\n",
    "labels_3_1=labels_3.groupby('Cluster Label').size().reset_index(name='counts')\n",
    "#print(labels_3)\n"
   ]
  },
  {
   "cell_type": "code",
   "execution_count": 87,
   "metadata": {},
   "outputs": [
    {
     "data": {
      "image/png": "[encoded data removed]",
      "text/plain": [
       "<matplotlib.figure.Figure at 0x231cfaab898>"
      ]
     },
     "metadata": {},
     "output_type": "display_data"
    }
   ],
   "source": [
    "plt.bar(labels_3_1['Cluster Label'],labels_3_1['counts'])\n",
    "plt.xlabel('Cluster Label')\n",
    "plt.ylabel('Count')\n",
    "plt.title('Plot showing count of cluster labels for 3 clusters')\n",
    "plt.show()"
   ]
  },
  {
   "cell_type": "code",
   "execution_count": 90,
   "metadata": {},
   "outputs": [],
   "source": [
    "kmeanmodel_8=KMeans(n_clusters=8)\n",
    "labels_8=pd.DataFrame(kmeanmodel_8.fit_predict(combined_np),columns=['Cluster Label'])\n",
    "labels_8_1=labels_8.groupby('Cluster Label').size().reset_index(name='counts')\n",
    "#print(labels_8_1.info())"
   ]
  },
  {
   "cell_type": "code",
   "execution_count": 91,
   "metadata": {},
   "outputs": [
    {
     "data": {
      "image/png": "[encoded data removed]",
      "text/plain": [
       "<matplotlib.figure.Figure at 0x231cff7b438>"
      ]
     },
     "metadata": {},
     "output_type": "display_data"
    }
   ],
   "source": [
    "plt.bar(labels_8_1['Cluster Label'],labels_8_1['counts'])\n",
    "plt.xlabel('Cluster Label')\n",
    "plt.ylabel('Count')\n",
    "plt.title('Plot showing count of cluster labels for 8 clusters')\n",
    "plt.show()"
   ]
  },
  {
   "cell_type": "markdown",
   "metadata": {},
   "source": [
    "### Choosing K: The Silhouette Method\n",
    "\n",
    "There exists another method that measures how well each datapoint $x_i$ \"fits\" its assigned cluster *and also* how poorly it fits into other clusters. This is a different way of looking at the same objective. Denote $a_{x_i}$ as the *average* distance from $x_i$ to all other points within its own cluster $k$. The lower the value, the better. On the other hand $b_{x_i}$ is the minimum average distance from $x_i$ to points in a different cluster, minimized over clusters. That is, compute separately for each cluster the average distance from $x_i$ to the points within that cluster, and then take the minimum. The silhouette $s(x_i)$ is defined as\n",
    "\n",
    "$$s(x_i) = \\frac{b_{x_i} - a_{x_i}}{\\max{\\left( a_{x_i}, b_{x_i}\\right)}}$$\n",
    "\n",
    "The silhouette score is computed on *every datapoint in every cluster*. The silhouette score ranges from -1 (a poor clustering) to +1 (a very dense clustering) with 0 denoting the situation where clusters overlap. Some criteria for the silhouette coefficient is provided in the table below."
   ]
  },
  {
   "cell_type": "markdown",
   "metadata": {},
   "source": [
    "<pre>\n",
    "\n",
    "| Range       | Interpretation                                |\n",
    "|-------------|-----------------------------------------------|\n",
    "| 0.71 - 1.0  | A strong structure has been found.            |\n",
    "| 0.51 - 0.7  | A reasonable structure has been found.        |\n",
    "| 0.26 - 0.5  | The structure is weak and could be artificial.|\n",
    "| < 0.25      | No substantial structure has been found.      |\n",
    "\n",
    "</pre>\n",
    "Source: http://www.stat.berkeley.edu/~spector/s133/Clus.html"
   ]
  },
  {
   "cell_type": "markdown",
   "metadata": {},
   "source": [
    "Fortunately, scikit-learn provides a function to compute this for us (phew!) called [`sklearn.metrics.silhouette_score`](http://scikit-learn.org/stable/modules/generated/sklearn.metrics.silhouette_score.html). Take a look at [this article](http://scikit-learn.org/stable/auto_examples/cluster/plot_kmeans_silhouette_analysis.html) on picking $K$ in scikit-learn, as it will help you in the next exercise set."
   ]
  },
  {
   "cell_type": "markdown",
   "metadata": {},
   "source": [
    "<div class=\"span5 alert alert-info\">\n",
    "<h3>Checkup Exercise Set III</h3>\n",
    "\n",
    "<p><b>Exercise:</b> Using the documentation for the `silhouette_score` function above, construct a series of silhouette plots like the ones in the article linked above.</p>\n",
    "\n",
    "<p><b>Exercise:</b> Compute the average silhouette score for each $K$ and plot it. What $K$ does the plot suggest we should choose? Does it differ from what we found using the Elbow method?</p>\n",
    "</div>"
   ]
  },
  {
   "cell_type": "code",
   "execution_count": 145,
   "metadata": {},
   "outputs": [
    {
     "name": "stdout",
     "output_type": "stream",
     "text": [
      "For n_clusters = 2 The average silhouette score is : 0.0917487150875\n",
      "For n_clusters = 3 The average silhouette score is : 0.115424070379\n",
      "For n_clusters = 4 The average silhouette score is : 0.0967025836069\n",
      "For n_clusters = 5 The average silhouette score is : 0.145315688203\n",
      "For n_clusters = 6 The average silhouette score is : 0.133131266271\n",
      "For n_clusters = 7 The average silhouette score is : 0.130739507718\n",
      "For n_clusters = 8 The average silhouette score is : 0.123975729011\n",
      "For n_clusters = 9 The average silhouette score is : 0.120246511094\n"
     ]
    }
   ],
   "source": [
    "from sklearn import metrics\n",
    "silhouette_plot=[]\n",
    "K=range(2,10)\n",
    "\n",
    "for k in K:\n",
    "    kmeanmodel=KMeans(n_clusters=k,random_state=42)\n",
    "    kmeanmodel_label=kmeanmodel.fit_predict(combined_np)\n",
    "    silhouette_avg=sklearn.metrics.silhouette_score(combined_np,labels=kmeanmodel_label)\n",
    "    print(\"For n_clusters =\",k,\n",
    "          \"The average silhouette score is :\",silhouette_avg)\n",
    "    silhouette_plot.append(silhouette_avg)\n",
    "    "
   ]
  },
  {
   "cell_type": "code",
   "execution_count": 148,
   "metadata": {},
   "outputs": [
    {
     "name": "stdout",
     "output_type": "stream",
     "text": [
      "0    2\n",
      "1    3\n",
      "2    4\n",
      "3    5\n",
      "4    6\n",
      "5    7\n",
      "6    8\n",
      "7    9\n",
      "dtype: int32\n",
      "[0.091748715087503513, 0.11542407037894219, 0.096702583606931222, 0.14531568820332333, 0.13313126627114877, 0.13073950771832585, 0.12397572901124844, 0.1202465110942483]\n"
     ]
    }
   ],
   "source": [
    "silhouette_clusters=pd.Series(np.arange(2,10,1))\n",
    "silhouette_plot_1=pd.Series(silhouette_plot,index=np.arange(0,8,1))\n",
    "\n",
    "print(silhouette_clusters)\n",
    "print(silhouette_plot)"
   ]
  },
  {
   "cell_type": "code",
   "execution_count": 157,
   "metadata": {},
   "outputs": [
    {
     "data": {
      "image/png": "[encoded data removed]",
      "text/plain": [
       "<matplotlib.figure.Figure at 0x231cfa6e1d0>"
      ]
     },
     "metadata": {},
     "output_type": "display_data"
    }
   ],
   "source": [
    "silhouette_combined=pd.DataFrame(data=dict(silhouette_clusters=silhouette_clusters,silhouette_plot=silhouette_plot))\n",
    "\n",
    "plt.bar(silhouette_clusters,silhouette_plot)\n",
    "plt.xlabel('Number of clusters')\n",
    "plt.ylabel('Silhouette score for respective number of clusters')\n",
    "plt.show()"
   ]
  },
  {
   "cell_type": "markdown",
   "metadata": {},
   "source": [
    "## Based on the silhouette score, k=5 is the optimal number of clusters for this problem since the score is highest for k=5. "
   ]
  },
  {
   "cell_type": "markdown",
   "metadata": {},
   "source": [
    "### Choosing $K$: The Gap Statistic\n",
    "\n",
    "There is one last method worth covering for picking $K$, the so-called Gap statistic. The computation for the gap statistic builds on the sum-of-squares established in the Elbow method discussion, and compares it to the sum-of-squares of a \"null distribution,\" that is, a random set of points with no clustering. The estimate for the optimal number of clusters $K$ is the value for which $\\log{SS}$ falls the farthest below that of the reference distribution:\n",
    "\n",
    "$$G_k = E_n^*\\{\\log SS_k\\} - \\log SS_k$$\n",
    "\n",
    "In other words a good clustering yields a much larger difference between the reference distribution and the clustered data. The reference distribution is a Monte Carlo (randomization) procedure that constructs $B$ random distributions of points within the bounding box (limits) of the original data and then applies K-means to this synthetic distribution of data points.. $E_n^*\\{\\log SS_k\\}$ is just the average $SS_k$ over all $B$ replicates. We then compute the standard deviation $\\sigma_{SS}$ of the values of $SS_k$ computed from the $B$ replicates of the reference distribution and compute\n",
    "\n",
    "$$s_k = \\sqrt{1+1/B}\\sigma_{SS}$$\n",
    "\n",
    "Finally, we choose $K=k$ such that $G_k \\geq G_{k+1} - s_{k+1}$."
   ]
  },
  {
   "cell_type": "markdown",
   "metadata": {},
   "source": [
    "### Aside: Choosing $K$ when we Have Labels\n",
    "\n",
    "Unsupervised learning expects that we do not have the labels. In some situations, we may wish to cluster data that is labeled. Computing the optimal number of clusters is much easier if we have access to labels. There are several methods available. We will not go into the math or details since it is rare to have access to the labels, but we provide the names and references of these measures.\n",
    "\n",
    "* Adjusted Rand Index\n",
    "* Mutual Information\n",
    "* V-Measure\n",
    "* Fowlkes–Mallows index\n",
    "\n",
    "See [this article](http://scikit-learn.org/stable/modules/clustering.html) for more information about these metrics."
   ]
  },
  {
   "cell_type": "markdown",
   "metadata": {},
   "source": [
    "## Visualizing Clusters using PCA\n",
    "\n",
    "How do we visualize clusters? If we only had two features, we could likely plot the data as is. But we have 100 data points each containing 32 features (dimensions). Principal Component Analysis (PCA) will help us reduce the dimensionality of our data from 32 to something lower. For a visualization on the coordinate plane, we will use 2 dimensions. In this exercise, we're going to use it to transform our multi-dimensional dataset into a 2 dimensional dataset.\n",
    "\n",
    "This is only one use of PCA for dimension reduction. We can also use PCA when we want to perform regression but we have a set of highly correlated variables. PCA untangles these correlations into a smaller number of features/predictors all of which are orthogonal (not correlated). PCA is also used to reduce a large set of variables into a much smaller one."
   ]
  },
  {
   "cell_type": "markdown",
   "metadata": {},
   "source": [
    "<div class=\"span5 alert alert-info\">\n",
    "<h3>Checkup Exercise Set IV</h3>\n",
    "\n",
    "<p><b>Exercise:</b> Use PCA to plot your clusters:</p>\n",
    "\n",
    "<ul>\n",
    "<li> Use scikit-learn's [`PCA`](http://scikit-learn.org/stable/modules/generated/sklearn.decomposition.PCA.html) function to reduce the dimensionality of your clustering data to 2 components\n",
    "<li> Create a data frame with the following fields:\n",
    "  <ul>\n",
    "  <li> customer name\n",
    "  <li> cluster id the customer belongs to\n",
    "  <li> the two PCA components (label them `x` and `y`)\n",
    "  </ul>\n",
    "<li> Plot a scatterplot of the `x` vs `y` columns\n",
    "<li> Color-code points differently based on cluster ID\n",
    "<li> How do the clusters look? \n",
    "<li> Based on what you see, what seems to be the best value for $K$? Moreover, which method of choosing $K$ seems to have produced the optimal result visually?\n",
    "</ul>\n",
    "\n",
    "<p><b>Exercise:</b> Now look at both the original raw data about the offers and transactions and look at the fitted clusters. Tell a story about the clusters in context of the original data. For example, do the clusters correspond to wine variants or something else interesting?</p>\n",
    "</div>"
   ]
  },
  {
   "cell_type": "code",
   "execution_count": 243,
   "metadata": {},
   "outputs": [
    {
     "name": "stdout",
     "output_type": "stream",
     "text": [
      "   customer_name  cluster_label         X         Y\n",
      "0          Adams              2  1.007580  0.108215\n",
      "1          Allen              1 -0.287539  0.044715\n",
      "2       Anderson              0 -0.392032  1.038391\n",
      "3         Bailey              2  0.699477 -0.022542\n",
      "4          Baker              1  0.088183 -0.471695\n",
      "5         Barnes              1 -0.485282 -0.725503\n",
      "6           Bell              0 -0.591941  1.506500\n",
      "7        Bennett              2  0.661732  0.090308\n",
      "8         Brooks              1 -0.118943 -0.577499\n",
      "9          Brown              2  1.079827 -0.007488\n",
      "10        Butler              1 -0.240431 -0.617026\n",
      "11      Campbell              0 -0.522247  1.231406\n",
      "12        Carter              2  1.260763 -0.014255\n",
      "13         Clark              1 -0.579221 -0.420475\n",
      "14       Collins              1  0.193998  0.010306\n",
      "15          Cook              0 -0.392032  1.038391\n",
      "16        Cooper              1 -0.406276 -0.045771\n",
      "17           Cox              0 -0.591941  1.506500\n",
      "18          Cruz              2  0.736155  0.117752\n",
      "19         Davis              1 -0.349057 -0.267081\n",
      "20          Diaz              2  1.412247 -0.123874\n",
      "21       Edwards              2  0.181048 -0.020653\n",
      "22         Evans              1 -0.371485 -0.348007\n",
      "23        Fisher              1 -0.509137 -0.687321\n",
      "24        Flores              0 -0.239706  0.911844\n",
      "25        Foster              1 -0.782355 -0.518475\n",
      "26        Garcia              1 -0.299666  0.006964\n",
      "27         Gomez              1 -0.412830 -0.012199\n",
      "28      Gonzalez              1 -0.339146 -0.185585\n",
      "29          Gray              0 -0.330960  0.607623\n",
      "..           ...            ...       ...       ...\n",
      "70          Reed              1 -0.252065  0.100076\n",
      "71         Reyes              1 -0.266650  0.097532\n",
      "72    Richardson              1 -0.443190 -0.634112\n",
      "73        Rivera              2  0.564060  0.056861\n",
      "74       Roberts              1 -0.202978 -0.134566\n",
      "75      Robinson              2  0.672985  0.081453\n",
      "76     Rodriguez              0 -0.403273  0.786296\n",
      "77        Rogers              2  0.377123 -0.791758\n",
      "78          Ross              2  0.210842  0.123742\n",
      "79       Russell              0 -0.273058  0.593281\n",
      "80       Sanchez              1 -1.077511 -0.229397\n",
      "81       Sanders              1 -1.274329 -0.114296\n",
      "82         Scott              1 -0.418022 -0.206640\n",
      "83         Smith              0 -0.300227  0.829765\n",
      "84       Stewart              2  1.068574  0.001366\n",
      "85      Sullivan              2  0.733742  0.058949\n",
      "86        Taylor              2  1.351253 -0.017026\n",
      "87        Thomas              1 -1.041879  0.122314\n",
      "88      Thompson              1  0.135104  0.036918\n",
      "89        Torres              2  0.281381  0.075254\n",
      "90        Turner              1 -0.632199 -0.651152\n",
      "91        Walker              2  0.600737  0.197156\n",
      "92          Ward              1 -0.226293  0.036352\n",
      "93        Watson              2  0.672985  0.081453\n",
      "94         White              1 -0.050484 -0.452883\n",
      "95      Williams              1 -0.151666 -0.587844\n",
      "96        Wilson              2  0.688224 -0.013688\n",
      "97          Wood              1 -0.551215 -0.395670\n",
      "98        Wright              1 -0.489805 -0.383307\n",
      "99         Young              1 -0.881994 -1.041788\n",
      "\n",
      "[100 rows x 4 columns]\n"
     ]
    }
   ],
   "source": [
    "#your turn\n",
    "from sklearn.decomposition import PCA\n",
    "\n",
    "pca=PCA(n_components=2)\n",
    "\n",
    "combined_np_pca=pd.DataFrame(pca.fit_transform(combined_np))\n",
    "\n",
    "combined_4=combined_3.copy()\n",
    "\n",
    "combined_4.reset_index(inplace=True)\n",
    "\n",
    "cust_name=combined_4['customer_name']\n",
    "\n",
    "cust_name_labels=pd.concat([cust_name,labels_3,combined_np_pca],axis=1)\n",
    "\n",
    "cust_name_labels.columns=['customer_name','cluster_label','X','Y']\n",
    "\n",
    "print(cust_name_labels)"
   ]
  },
  {
   "cell_type": "code",
   "execution_count": 211,
   "metadata": {},
   "outputs": [
    {
     "data": {
      "image/png": "[encoded data removed]",
      "text/plain": [
       "<matplotlib.figure.Figure at 0x231cfeb0f28>"
      ]
     },
     "metadata": {},
     "output_type": "display_data"
    }
   ],
   "source": [
    "plt.scatter(x='X',y='Y',c='Cluster Label',data=cust_name_labels,alpha=1)\n",
    "plt.show()"
   ]
  },
  {
   "cell_type": "markdown",
   "metadata": {},
   "source": [
    "## Based on the plot developed after PCA decomposition, 3 clusters seems to be the best option since the above plot shows 3 distinct sets of data points. So, it can be said that the elbow method works quite well. "
   ]
  },
  {
   "cell_type": "code",
   "execution_count": 249,
   "metadata": {
    "scrolled": true
   },
   "outputs": [
    {
     "name": "stdout",
     "output_type": "stream",
     "text": [
      "cluster_label  varietal          \n",
      "0              Champagne              1\n",
      "               Chardonnay             1\n",
      "               Malbec                 1\n",
      "               Merlot                 1\n",
      "               Pinot Noir            37\n",
      "               Prosecco               2\n",
      "1              Cabernet Sauvignon    31\n",
      "               Champagne             75\n",
      "               Chardonnay            14\n",
      "               Espumante              8\n",
      "               Malbec                15\n",
      "               Merlot                13\n",
      "               Pinot Grigio           1\n",
      "               Pinot Noir             7\n",
      "               Prosecco              21\n",
      "2              Cabernet Sauvignon     1\n",
      "               Champagne              5\n",
      "               Espumante             32\n",
      "               Malbec                16\n",
      "               Merlot                 6\n",
      "               Pinot Grigio          16\n",
      "               Prosecco              20\n",
      "dtype: int64\n"
     ]
    }
   ],
   "source": [
    "combined_4=combined.copy()\n",
    "\n",
    "combined_story=pd.merge(combined_4,cust_name_labels,on='customer_name')\n",
    "\n",
    "#combined_story_campaign=pd.pivot_table(data=combined_story,index=['varietal'],columns='campaign',values='Cluster Label',aggfunc='count')\n",
    "\n",
    "combined_story_1=combined_story.groupby(['cluster_label','varietal']).size()\n",
    "print(combined_story_1)"
   ]
  },
  {
   "cell_type": "code",
   "execution_count": 250,
   "metadata": {},
   "outputs": [
    {
     "name": "stdout",
     "output_type": "stream",
     "text": [
      "cluster_label  campaign \n",
      "0              April         1\n",
      "               January       7\n",
      "               July          7\n",
      "               June          1\n",
      "               May           1\n",
      "               October      13\n",
      "               September    13\n",
      "1              April        14\n",
      "               August       28\n",
      "               December     27\n",
      "               February     20\n",
      "               January      13\n",
      "               July          5\n",
      "               June         19\n",
      "               March        17\n",
      "               May          16\n",
      "               November      6\n",
      "               October      16\n",
      "               September     4\n",
      "2              April         2\n",
      "               August        3\n",
      "               December     16\n",
      "               February      2\n",
      "               July         14\n",
      "               March        34\n",
      "               May           7\n",
      "               November     17\n",
      "               October       1\n",
      "dtype: int64\n"
     ]
    }
   ],
   "source": [
    "combined_story_2=combined_story.groupby(['cluster_label','campaign']).size()\n",
    "print(combined_story_2)"
   ]
  },
  {
   "cell_type": "code",
   "execution_count": 251,
   "metadata": {},
   "outputs": [
    {
     "name": "stdout",
     "output_type": "stream",
     "text": [
      "cluster_label  origin      \n",
      "0              Australia       13\n",
      "               California       2\n",
      "               France           7\n",
      "               Germany          7\n",
      "               Italy           12\n",
      "               New Zealand      1\n",
      "               South Africa     1\n",
      "1              Australia        9\n",
      "               California      10\n",
      "               Chile           30\n",
      "               France          87\n",
      "               Germany          8\n",
      "               Italy           12\n",
      "               New Zealand     11\n",
      "               Oregon          11\n",
      "               South Africa     7\n",
      "2              Australia       17\n",
      "               California       4\n",
      "               Chile            7\n",
      "               France          34\n",
      "               Germany          1\n",
      "               New Zealand      1\n",
      "               Oregon          15\n",
      "               South Africa    17\n",
      "dtype: int64\n"
     ]
    }
   ],
   "source": [
    "combined_story_3=combined_story.groupby(['cluster_label','origin']).size()\n",
    "print(combined_story_3)"
   ]
  },
  {
   "cell_type": "markdown",
   "metadata": {},
   "source": [
    "## As shown in combined_story_1 and 3, varietal and origin can be clearly segmented using cluster_label. For instance, cluster_label 1 is composed 50% of French wines. Similarly, of the 81 transactions of Champagne variety of wines, 76 of them fall in cluster_label 1. So, it can be concluded that cluster labels have been developed based on customer preference of wine variety and origin. "
   ]
  },
  {
   "cell_type": "markdown",
   "metadata": {},
   "source": [
    "What we've done is we've taken those columns of 0/1 indicator variables, and we've transformed them into a 2-D dataset. We took one column and arbitrarily called it `x` and then called the other `y`. Now we can throw each point into a scatterplot. We color coded each point based on it's cluster so it's easier to see them."
   ]
  },
  {
   "cell_type": "markdown",
   "metadata": {},
   "source": [
    "<div class=\"span5 alert alert-info\">\n",
    "<h3>Exercise Set V</h3>\n",
    "\n",
    "<p>As we saw earlier, PCA has a lot of other uses. Since we wanted to visualize our data in 2 dimensions, restricted the number of dimensions to 2 in PCA. But what is the true optimal number of dimensions?</p>\n",
    "\n",
    "<p><b>Exercise:</b> Using a new PCA object shown in the next cell, plot the `explained_variance_` field and look for the elbow point, the point where the curve's rate of descent seems to slow sharply. This value is one possible value for the optimal number of dimensions. What is it?</p>\n",
    "</div>"
   ]
  },
  {
   "cell_type": "code",
   "execution_count": 273,
   "metadata": {},
   "outputs": [
    {
     "data": {
      "image/png": "[encoded data removed]",
      "text/plain": [
       "<matplotlib.figure.Figure at 0x231d1bf11d0>"
      ]
     },
     "metadata": {},
     "output_type": "display_data"
    }
   ],
   "source": [
    "#your turn\n",
    "# Initialize a new PCA model with a default number of components.\n",
    "import sklearn.decomposition\n",
    "pca = sklearn.decomposition.PCA()\n",
    "pca.fit(combined_np)\n",
    "\n",
    "# Do the rest on your own :)\n",
    "#print(pca.explained_variance_ratio_)\n",
    "\n",
    "explained_variance_ratio=pd.DataFrame(pca.explained_variance_ratio_,columns=['Variance'])\n",
    "\n",
    "explained_variance_ratio.plot()\n",
    "plt.xticks(np.arange(0,32),fontsize=10)\n",
    "plt.yticks(np.arange(0,0.15,0.02),fontsize=10)\n",
    "plt.xlabel('Number of components')\n",
    "plt.ylabel('Explained variance as percentage of total variance')\n",
    "plt.show()"
   ]
  },
  {
   "cell_type": "markdown",
   "metadata": {},
   "source": [
    "## Based on the above curve, we can say that 4 principal components account for 40% of the datasets total variance. We can see a clear elbow at x=3, which is the 4th component. So, the number of optimal dimensions equals 4."
   ]
  },
  {
   "cell_type": "markdown",
   "metadata": {},
   "source": [
    "## Other Clustering Algorithms\n",
    "\n",
    "k-means is only one of a ton of clustering algorithms. Below is a brief description of several clustering algorithms, and the table provides references to the other clustering algorithms in scikit-learn. \n",
    "\n",
    "* **Affinity Propagation** does not require the number of clusters $K$ to be known in advance! AP uses a \"message passing\" paradigm to cluster points based on their similarity. \n",
    "\n",
    "* **Spectral Clustering** uses the eigenvalues of a similarity matrix to reduce the dimensionality of the data before clustering in a lower dimensional space. This is tangentially similar to what we did to visualize k-means clusters using PCA. The number of clusters must be known a priori.\n",
    "\n",
    "* **Ward's Method** applies to hierarchical clustering. Hierarchical clustering algorithms take a set of data and successively divide the observations into more and more clusters at each layer of the hierarchy. Ward's method is used to determine when two clusters in the hierarchy should be combined into one. It is basically an extension of hierarchical clustering. Hierarchical clustering is *divisive*, that is, all observations are part of the same cluster at first, and at each successive iteration, the clusters are made smaller and smaller. With hierarchical clustering, a hierarchy is constructed, and there is not really the concept of \"number of clusters.\" The number of clusters simply determines how low or how high in the hierarchy we reference and can be determined empirically or by looking at the [dendogram](https://docs.scipy.org/doc/scipy-0.18.1/reference/generated/scipy.cluster.hierarchy.dendrogram.html).\n",
    "\n",
    "* **Agglomerative Clustering** is similar to hierarchical clustering but but is not divisive, it is *agglomerative*. That is, every observation is placed into its own cluster and at each iteration or level or the hierarchy, observations are merged into fewer and fewer clusters until convergence. Similar to hierarchical clustering, the constructed hierarchy contains all possible numbers of clusters and it is up to the analyst to pick the number by reviewing statistics or the dendogram.\n",
    "\n",
    "* **DBSCAN** is based on point density rather than distance. It groups together points with many nearby neighbors. DBSCAN is one of the most cited algorithms in the literature. It does not require knowing the number of clusters a priori, but does require specifying the neighborhood size."
   ]
  },
  {
   "cell_type": "markdown",
   "metadata": {},
   "source": [
    "### Clustering Algorithms in Scikit-learn\n",
    "<table border=\"1\">\n",
    "<colgroup>\n",
    "<col width=\"15%\" />\n",
    "<col width=\"16%\" />\n",
    "<col width=\"20%\" />\n",
    "<col width=\"27%\" />\n",
    "<col width=\"22%\" />\n",
    "</colgroup>\n",
    "<thead valign=\"bottom\">\n",
    "<tr><th>Method name</th>\n",
    "<th>Parameters</th>\n",
    "<th>Scalability</th>\n",
    "<th>Use Case</th>\n",
    "<th>Geometry (metric used)</th>\n",
    "</tr>\n",
    "</thead>\n",
    "<tbody valign=\"top\">\n",
    "<tr><td>K-Means</span></a></td>\n",
    "<td>number of clusters</td>\n",
    "<td>Very large<span class=\"pre\">n_samples</span>, medium <span class=\"pre\">n_clusters</span> with\n",
    "MiniBatch code</td>\n",
    "<td>General-purpose, even cluster size, flat geometry, not too many clusters</td>\n",
    "<td>Distances between points</td>\n",
    "</tr>\n",
    "<tr><td>Affinity propagation</td>\n",
    "<td>damping, sample preference</td>\n",
    "<td>Not scalable with n_samples</td>\n",
    "<td>Many clusters, uneven cluster size, non-flat geometry</td>\n",
    "<td>Graph distance (e.g. nearest-neighbor graph)</td>\n",
    "</tr>\n",
    "<tr><td>Mean-shift</td>\n",
    "<td>bandwidth</td>\n",
    "<td>Not scalable with <span class=\"pre\">n_samples</span></td>\n",
    "<td>Many clusters, uneven cluster size, non-flat geometry</td>\n",
    "<td>Distances between points</td>\n",
    "</tr>\n",
    "<tr><td>Spectral clustering</td>\n",
    "<td>number of clusters</td>\n",
    "<td>Medium <span class=\"pre\">n_samples</span>, small <span class=\"pre\">n_clusters</span></td>\n",
    "<td>Few clusters, even cluster size, non-flat geometry</td>\n",
    "<td>Graph distance (e.g. nearest-neighbor graph)</td>\n",
    "</tr>\n",
    "<tr><td>Ward hierarchical clustering</td>\n",
    "<td>number of clusters</td>\n",
    "<td>Large <span class=\"pre\">n_samples</span> and <span class=\"pre\">n_clusters</span></td>\n",
    "<td>Many clusters, possibly connectivity constraints</td>\n",
    "<td>Distances between points</td>\n",
    "</tr>\n",
    "<tr><td>Agglomerative clustering</td>\n",
    "<td>number of clusters, linkage type, distance</td>\n",
    "<td>Large <span class=\"pre\">n_samples</span> and <span class=\"pre\">n_clusters</span></td>\n",
    "<td>Many clusters, possibly connectivity constraints, non Euclidean\n",
    "distances</td>\n",
    "<td>Any pairwise distance</td>\n",
    "</tr>\n",
    "<tr><td>DBSCAN</td>\n",
    "<td>neighborhood size</td>\n",
    "<td>Very large <span class=\"pre\">n_samples</span>, medium <span class=\"pre\">n_clusters</span></td>\n",
    "<td>Non-flat geometry, uneven cluster sizes</td>\n",
    "<td>Distances between nearest points</td>\n",
    "</tr>\n",
    "<tr><td>Gaussian mixtures</td>\n",
    "<td>many</td>\n",
    "<td>Not scalable</td>\n",
    "<td>Flat geometry, good for density estimation</td>\n",
    "<td>Mahalanobis distances to  centers</td>\n",
    "</tr>\n",
    "<tr><td>Birch</td>\n",
    "<td>branching factor, threshold, optional global clusterer.</td>\n",
    "<td>Large <span class=\"pre\">n_clusters</span> and <span class=\"pre\">n_samples</span></td>\n",
    "<td>Large dataset, outlier removal, data reduction.</td>\n",
    "<td>Euclidean distance between points</td>\n",
    "</tr>\n",
    "</tbody>\n",
    "</table>\n",
    "Source: http://scikit-learn.org/stable/modules/clustering.html"
   ]
  },
  {
   "cell_type": "markdown",
   "metadata": {},
   "source": [
    "<div class=\"span5 alert alert-info\">\n",
    "<h3>Exercise Set VI</h3>\n",
    "\n",
    "<p><b>Exercise:</b> Try clustering using the following algorithms. </p>\n",
    "<ol>\n",
    "<li>Affinity propagation\n",
    "<li>Spectral clustering\n",
    "<li>Agglomerative clustering\n",
    "<li>DBSCAN\n",
    "</ol>\n",
    "<p>How do their results compare? Which performs the best? Tell a story why you think it performs the best.</p>\n",
    "</div>\n"
   ]
  },
  {
   "cell_type": "code",
   "execution_count": 288,
   "metadata": {},
   "outputs": [
    {
     "name": "stdout",
     "output_type": "stream",
     "text": [
      "Number of clusters as per affinity propogation 14\n",
      "Silhouette score for affinity propogation 0.123465236045\n"
     ]
    }
   ],
   "source": [
    "# Your turn\n",
    "import sklearn.cluster\n",
    "    \n",
    "ap=sklearn.cluster.AffinityPropagation().fit(combined_np)\n",
    "\n",
    "ap_cluster_center_indices=ap.cluster_centers_indices_\n",
    "\n",
    "ap_labels=ap.labels_\n",
    "\n",
    "ap_n_clusters=len(ap_cluster_center_indices)\n",
    "\n",
    "print(\"Number of clusters as per affinity propogation\",ap_n_clusters)\n",
    "\n",
    "print(\"Silhouette score for affinity propogation\",sklearn.metrics.silhouette_score(combined_np,ap_labels))\n"
   ]
  },
  {
   "cell_type": "code",
   "execution_count": 297,
   "metadata": {},
   "outputs": [
    {
     "name": "stdout",
     "output_type": "stream",
     "text": [
      "For n_clusters = 2 The average silhouette score for spectral clustering is : 0.0591405970172\n",
      "For n_clusters = 3 The average silhouette score for spectral clustering is : 0.0999059123102\n",
      "For n_clusters = 4 The average silhouette score for spectral clustering is : 0.0290656989328\n",
      "For n_clusters = 5 The average silhouette score for spectral clustering is : 0.0158567687769\n",
      "For n_clusters = 6 The average silhouette score for spectral clustering is : 0.0175964169953\n",
      "For n_clusters = 7 The average silhouette score for spectral clustering is : 0.0479193535046\n",
      "For n_clusters = 8 The average silhouette score for spectral clustering is : 0.0526822430984\n",
      "For n_clusters = 9 The average silhouette score for spectral clustering is : 0.0304730322858\n"
     ]
    }
   ],
   "source": [
    "K=range(2,10)\n",
    "\n",
    "for k in K:\n",
    "    sc=sklearn.cluster.SpectralClustering(n_clusters=k,random_state=42).fit(combined_np)\n",
    "    sc_labels=sc.labels_\n",
    "    sc_silhouette_avg=sklearn.metrics.silhouette_score(combined_np,labels=sc_labels)\n",
    "    print(\"For n_clusters =\",k,\n",
    "          \"The average silhouette score for spectral clustering is :\",sc_silhouette_avg)\n"
   ]
  },
  {
   "cell_type": "code",
   "execution_count": 300,
   "metadata": {},
   "outputs": [
    {
     "name": "stdout",
     "output_type": "stream",
     "text": [
      "For n_clusters = 2 The average silhouette score for agglomerative clustering is : 0.0825801782318\n",
      "For n_clusters = 3 The average silhouette score for agglomerative clustering is : 0.116258788636\n",
      "For n_clusters = 4 The average silhouette score for agglomerative clustering is : 0.128937578159\n",
      "For n_clusters = 5 The average silhouette score for agglomerative clustering is : 0.140897399708\n",
      "For n_clusters = 6 The average silhouette score for agglomerative clustering is : 0.147152172046\n",
      "For n_clusters = 7 The average silhouette score for agglomerative clustering is : 0.152751527511\n",
      "For n_clusters = 8 The average silhouette score for agglomerative clustering is : 0.155780537186\n",
      "For n_clusters = 9 The average silhouette score for agglomerative clustering is : 0.12075124132\n"
     ]
    }
   ],
   "source": [
    "K=range(2,10)\n",
    "\n",
    "for k in K:\n",
    "    ac=sklearn.cluster.AgglomerativeClustering(n_clusters=k).fit(combined_np)\n",
    "    ac_labels=ac.labels_\n",
    "    ac_silhouette_avg=sklearn.metrics.silhouette_score(combined_np,labels=ac_labels)\n",
    "    print(\"For n_clusters =\",k,\n",
    "          \"The average silhouette score for agglomerative clustering is :\",ac_silhouette_avg)\n"
   ]
  },
  {
   "cell_type": "markdown",
   "metadata": {},
   "source": [
    "## Agglomerative clustering with 8 clusters does the best since it has the highest silhouette score. Spectral clustering does the worst as seen from the very low silhouette scores. Affinity propagation is mediocre. "
   ]
  },
  {
   "cell_type": "code",
   "execution_count": null,
   "metadata": {
    "collapsed": true
   },
   "outputs": [],
   "source": []
  }
 ],
 "metadata": {
  "anaconda-cloud": {},
  "kernelspec": {
   "display_name": "Python 3",
   "language": "python",
   "name": "python3"
  },
  "language_info": {
   "codemirror_mode": {
    "name": "ipython",
    "version": 3
   },
   "file_extension": ".py",
   "mimetype": "text/x-python",
   "name": "python",
   "nbconvert_exporter": "python",
   "pygments_lexer": "ipython3",
   "version": "3.6.3"
  }
 },
 "nbformat": 4,
 "nbformat_minor": 1
}
