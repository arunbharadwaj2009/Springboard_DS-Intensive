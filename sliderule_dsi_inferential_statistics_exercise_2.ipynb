{
 "cells": [
  {
   "cell_type": "markdown",
   "metadata": {},
   "source": [
    "# Examining Racial Discrimination in the US Job Market\n",
    "\n",
    "### Background\n",
    "Racial discrimination continues to be pervasive in cultures throughout the world. Researchers examined the level of racial discrimination in the United States labor market by randomly assigning identical résumés to black-sounding or white-sounding names and observing the impact on requests for interviews from employers.\n",
    "\n",
    "### Data\n",
    "In the dataset provided, each row represents a resume. The 'race' column has two values, 'b' and 'w', indicating black-sounding and white-sounding. The column 'call' has two values, 1 and 0, indicating whether the resume received a call from employers or not.\n",
    "\n",
    "Note that the 'b' and 'w' values in race are assigned randomly to the resumes when presented to the employer."
   ]
  },
  {
   "cell_type": "markdown",
   "metadata": {},
   "source": [
    "### Exercises\n",
    "You will perform a statistical analysis to establish whether race has a significant impact on the rate of callbacks for resumes.\n",
    "\n",
    "Answer the following questions **in this notebook below and submit to your Github account**. \n",
    "\n",
    "   1. What test is appropriate for this problem? Does CLT apply?\n",
    "   2. What are the null and alternate hypotheses?\n",
    "   3. Compute margin of error, confidence interval, and p-value.\n",
    "   4. Write a story describing the statistical significance in the context or the original problem.\n",
    "   5. Does your analysis mean that race/name is the most important factor in callback success? Why or why not? If not, how would you amend your analysis?\n",
    "\n",
    "You can include written notes in notebook cells using Markdown: \n",
    "   - In the control panel at the top, choose Cell > Cell Type > Markdown\n",
    "   - Markdown syntax: http://nestacms.com/docs/creating-content/markdown-cheat-sheet\n",
    "\n",
    "\n",
    "#### Resources\n",
    "+ Experiment information and data source: http://www.povertyactionlab.org/evaluation/discrimination-job-market-united-states\n",
    "+ Scipy statistical methods: http://docs.scipy.org/doc/scipy/reference/stats.html \n",
    "+ Markdown syntax: http://nestacms.com/docs/creating-content/markdown-cheat-sheet\n",
    "****"
   ]
  },
  {
   "cell_type": "code",
   "execution_count": 35,
   "metadata": {
    "collapsed": true
   },
   "outputs": [],
   "source": [
    "import pandas as pd\n",
    "import numpy as np\n",
    "import scipy\n",
    "from scipy import stats\n",
    "import matplotlib.pyplot as plt"
   ]
  },
  {
   "cell_type": "code",
   "execution_count": 2,
   "metadata": {
    "collapsed": true
   },
   "outputs": [],
   "source": [
    "data = pd.io.stata.read_stata('data/us_job_market_discrimination.dta')"
   ]
  },
  {
   "cell_type": "code",
   "execution_count": 5,
   "metadata": {},
   "outputs": [
    {
     "data": {
      "text/plain": [
       "157.0"
      ]
     },
     "execution_count": 5,
     "metadata": {},
     "output_type": "execute_result"
    }
   ],
   "source": [
    "# number of callbacks for black-sounding names\n",
    "sum(data[data.race=='b'].call)"
   ]
  },
  {
   "cell_type": "code",
   "execution_count": 45,
   "metadata": {},
   "outputs": [
    {
     "data": {
      "text/plain": [
       "392.0"
      ]
     },
     "execution_count": 45,
     "metadata": {},
     "output_type": "execute_result"
    }
   ],
   "source": [
    "sum(data.call)\n",
    "#data.info()\n",
    "#print(data)"
   ]
  },
  {
   "cell_type": "code",
   "execution_count": 13,
   "metadata": {
    "collapsed": true
   },
   "outputs": [],
   "source": [
    "data_b = data[data['race']=='b']\n",
    "#print(data_b.info())"
   ]
  },
  {
   "cell_type": "code",
   "execution_count": 15,
   "metadata": {
    "collapsed": true
   },
   "outputs": [],
   "source": [
    "data_w = data[data['race']=='w']\n",
    "#print(data_w.info())"
   ]
  },
  {
   "cell_type": "code",
   "execution_count": 33,
   "metadata": {},
   "outputs": [
    {
     "name": "stdout",
     "output_type": "stream",
     "text": [
      "[0.125, 0.075000003, 0.075000003, 0.15000001, 0.125, 0.025, 0.050000001, 0.050000001, 0.075000003, 0.050000001, 0.075000003, 0.1, 0.050000001, 0.125, 0.075000003, 0.125, 0.025, 0.075000003, 0.125, 0.025, 0.15000001, 0.025, 0.050000001, 0.075000003, 0.075000003, 0.025, 0.075000003, 0.15000001, 0.125, 0.15000001, 0.175, 0.075000003, 0.050000001, 0.075000003, 0.0, 0.075000003, 0.050000001, 0.075000003, 0.2, 0.1, 0.075000003, 0.1, 0.125, 0.075000003, 0.125, 0.075000003, 0.050000001, 0.075000003, 0.15000001, 0.1, 0.075000003, 0.025, 0.025, 0.175, 0.1, 0.075000003, 0.1, 0.125, 0.125, 0.025, 0.1, 0.050000001, 0.1, 0.1, 0.1, 0.075000003, 0.075000003, 0.125, 0.1, 0.025, 0.1, 0.125, 0.125, 0.050000001, 0.025, 0.1, 0.15000001, 0.1, 0.075000003, 0.125, 0.1, 0.1, 0.1, 0.1, 0.15000001, 0.1, 0.125, 0.125, 0.1, 0.1, 0.050000001, 0.1, 0.050000001, 0.1, 0.1, 0.050000001, 0.075000003, 0.125, 0.1, 0.15000001, 0.025, 0.075000003, 0.050000001, 0.050000001, 0.175, 0.075000003, 0.050000001, 0.125, 0.050000001, 0.15000001, 0.075000003, 0.050000001, 0.1, 0.075000003, 0.075000003, 0.075000003, 0.050000001, 0.025, 0.025, 0.075000003]\n",
      "0.0870833\n",
      "0.075\n"
     ]
    }
   ],
   "source": [
    "x=[]\n",
    "\n",
    "for _ in range(120):\n",
    "    y=np.random.choice(data['call'],size=40)\n",
    "    x.append(np.mean(y))\n",
    "print(x)\n",
    "print(np.mean(x))\n",
    "print(np.median(x))"
   ]
  },
  {
   "cell_type": "code",
   "execution_count": 31,
   "metadata": {},
   "outputs": [
    {
     "data": {
      "image/png": "[encoded data removed]",
      "text/plain": [
       "<matplotlib.figure.Figure at 0xe46ad30>"
      ]
     },
     "metadata": {},
     "output_type": "display_data"
    }
   ],
   "source": [
    "plt.hist(x)\n",
    "plt.show()"
   ]
  },
  {
   "cell_type": "code",
   "execution_count": 36,
   "metadata": {},
   "outputs": [
    {
     "data": {
      "text/plain": [
       "NormaltestResult(statistic=1.7869719033157767, pvalue=0.40922671886885242)"
      ]
     },
     "execution_count": 36,
     "metadata": {},
     "output_type": "execute_result"
    }
   ],
   "source": [
    "scipy.stats.normaltest(x)"
   ]
  },
  {
   "cell_type": "markdown",
   "metadata": {},
   "source": [
    "1.1) Given that we do not know the population standard deviation of the call column, the t-test for hypothesis testing should be used. Since we are comparing the sample means of white sounding and black sounding applicant call column, a 2-sample test should be used for hypothesis testing. \n",
    "\n",
    "1.2) The central limit theorem is defined as follows: when taking many samples from a population, with adequate sample size, the means of these samples form a normal distribution, irrespective of the population distribution. To check the central limit theorem, 120 samples of the call column are randomly sampled, with sample size 40, and the means of each sample calculated. Scipy normal test function is applied on this array of means. Null hypothesis of this test is that sample is taken from a normal distribution. Since the p-value is high, we conclude that null hypothesis stands and the sampling means are distributed normally. So, the dataset complies with central limit theorem."
   ]
  },
  {
   "cell_type": "markdown",
   "metadata": {},
   "source": [
    "2) Null hypothesis for this dataset is that population means of call variable for white sounding and black sounding job seekers is identical. Alternate hypothesis is that these population means are different from each other."
   ]
  },
  {
   "cell_type": "code",
   "execution_count": 38,
   "metadata": {},
   "outputs": [
    {
     "data": {
      "text/plain": [
       "Ttest_indResult(statistic=-4.1147052908617514, pvalue=3.9408021031288859e-05)"
      ]
     },
     "execution_count": 38,
     "metadata": {},
     "output_type": "execute_result"
    }
   ],
   "source": [
    "scipy.stats.ttest_ind(data_b['call'],data_w['call'])"
   ]
  },
  {
   "cell_type": "markdown",
   "metadata": {},
   "source": [
    "3.1) The p-value from the 2 sample t-test between the white sounding and black sounding call variable is calculated as 0.0000394. So, the null hypothesis of this hypothesis test is rejected. If the sampling were done correctly, then the population means of white sounding and black sounding job calls are not identical."
   ]
  },
  {
   "cell_type": "code",
   "execution_count": 43,
   "metadata": {},
   "outputs": [
    {
     "data": {
      "text/plain": [
       "(0.086994436404160019, 0.087005563595839969)"
      ]
     },
     "execution_count": 43,
     "metadata": {},
     "output_type": "execute_result"
    }
   ],
   "source": [
    "scipy.stats.t.interval(0.95,119,loc=0.087,scale=(np.std(x)/(119**2)))"
   ]
  },
  {
   "cell_type": "markdown",
   "metadata": {},
   "source": [
    "3.2) Confidence interval cannot be computed for the call column since it is a binary variable. Confidence intervals can only be calculated for continuous variables. So, instead the confidence interval of sampling means were calculated. It is seen that the width between upper and lower bounds of the confidence interval is very small, indicating that the sampling means are tightly distributed. "
   ]
  },
  {
   "cell_type": "markdown",
   "metadata": {},
   "source": [
    "4) Based on the given dataset, it is concluded that the expected value of callbacks for white sounding applicants is different from those for black sounding applicants. This assumes that the given dataset was sampled correctly. "
   ]
  },
  {
   "cell_type": "markdown",
   "metadata": {},
   "source": [
    "5) Using the hypothesis test, it is difficult to say that race is the largest factor influencing the expected value of callbacks. It is most important that sampling was done correctly. While the sampled dataset has more than 4800 rows, with an equal split between black sounding and white sounding applicants, it is important that other attributes are also similar between white and black sounding applicants. For instance, if the sample had white sounding applicants with better credentials, this may skew our analysis. But if the other attributes are also similar and if the hypothesis test still gives the same result, then it is possible that race has a large influence on callbacks. \n",
    "\n",
    "A better way to do this analysis will be to split the data into black sounding and white sounding applicants, perform separate hypothesis tests on the difference in means of all attributes. This will lead to many hypothesis tests. If the difference in means of all these other attributes are not significant, it can be definitely concluded that race has a large influence on callbacks. \n",
    "\n",
    "Finally, a logistic regression model, with callbacks as dependent variable, will also be effective at identifying whether race plays a large role in callbacks."
   ]
  }
 ],
 "metadata": {
  "kernelspec": {
   "display_name": "Python 2",
   "language": "python",
   "name": "python2"
  },
  "language_info": {
   "codemirror_mode": {
    "name": "ipython",
    "version": 2
   },
   "file_extension": ".py",
   "mimetype": "text/x-python",
   "name": "python",
   "nbconvert_exporter": "python",
   "pygments_lexer": "ipython2",
   "version": "2.7.13"
  }
 },
 "nbformat": 4,
 "nbformat_minor": 1
}
